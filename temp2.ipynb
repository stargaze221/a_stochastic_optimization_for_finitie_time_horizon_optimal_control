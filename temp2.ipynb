{
 "cells": [
  {
   "cell_type": "markdown",
   "id": "opposite-scholarship",
   "metadata": {},
   "source": [
    "# Vehicle Model\n",
    "\n",
    "Everything is same but the vehicle model compared to the double integrator case."
   ]
  },
  {
   "cell_type": "markdown",
   "id": "crude-color",
   "metadata": {},
   "source": [
    "Dubins Car Dynamics with the state vector $(x_t, y_t, \\theta_t)$ and control vector $(v_t, \\phi_t)$\n",
    "\n",
    "\n",
    "\n",
    "\\begin{equation}\n",
    "\\begin{aligned}\n",
    "x_{t+1} &= x_{t} + (v_t \\cos \\theta_t)\\delta \\\\\n",
    "y_{t+1} &= y_{t} + (v_t \\sin \\theta_t)\\delta \\\\\n",
    "\\theta_{t+1} &= \\theta_{t} + (\\frac{v_t}{L} \\tan \\phi)\\delta\n",
    "\\end{aligned}\n",
    "\\end{equation}"
   ]
  },
  {
   "cell_type": "code",
   "execution_count": 1,
   "id": "mobile-image",
   "metadata": {},
   "outputs": [],
   "source": [
    "import torch\n",
    "import numpy as np\n",
    "DEVICE = torch.device(\"cuda:0\" if torch.cuda.is_available() else \"cpu\")\n",
    "#DEVICE = \"cpu\"\n",
    "\n",
    "### Dubins Car Model Parameters ##\n",
    "L = 0.2 # Wheelbase\n",
    "DELTA_Time       = 0.1 # For integrator\n",
    "STEER_SATURATION =  100\n",
    "STEER_FACTOR     = 1\n",
    "x_0 = torch.FloatTensor([0, 0, 0]).to(DEVICE)"
   ]
  },
  {
   "cell_type": "code",
   "execution_count": 2,
   "id": "continental-librarian",
   "metadata": {},
   "outputs": [],
   "source": [
    "N_t = 20 # Time horizon\n",
    "N_u = 2  # dimension of the control input.\n",
    "N_x = 3  # dimension of the state space.\n",
    "N_smpl = 10000 # MPPI "
   ]
  },
  {
   "cell_type": "markdown",
   "id": "impressive-aquarium",
   "metadata": {},
   "source": [
    "# Functions and other utility for simulation"
   ]
  },
  {
   "cell_type": "code",
   "execution_count": 3,
   "id": "affected-french",
   "metadata": {},
   "outputs": [],
   "source": [
    "### Simulate the multiple trajectories ###\n",
    "def calculate_state_trajectories(x_0, U_tensor):\n",
    "    \n",
    "    '''\n",
    "    global parameters:\n",
    "    L = 0.2 # Wheelbase\n",
    "    DELTA_Time       = 0.1 # For integrator\n",
    "    STEER_SATURATION = 1.0\n",
    "    STEER_FACTOR     = 0.1\n",
    "    \n",
    "    given:\n",
    "    x_0 initial state with size (3)\n",
    "    U_tensor: N_path, M_destination, N_time, N_u, N_smpl\n",
    "    \n",
    "    return:\n",
    "    XX_tensor: N_path, M_destination, N_time, N_x, N_smpl\n",
    "    '''\n",
    "    \n",
    "    ### Get the shape of the input tensor ###\n",
    "    N_t, N_u, N_smpl = U_tensor.size()\n",
    "    \n",
    "    #U_tensor = U_tensor.permute()\n",
    "    \n",
    "    ### Initialize the state value ###\n",
    "    X_t = x_0.unsqueeze(0).repeat(N_smpl, 1).to(DEVICE)\n",
    "    \n",
    "    XX_tensor = []\n",
    "    for t in range(N_t):\n",
    "        U_t = U_tensor[t,:,:]   #.permute(0,1,3,2).unsqueeze(-1)\n",
    "        \n",
    "        # Control\n",
    "        V_t   = U_t[0,:]\n",
    "        #V_t   = torch.clamp(U_t[:,:,:,0,:], 0 ,1)\n",
    "        Phi_t = torch.clamp(U_t[1,:] * STEER_FACTOR, -STEER_SATURATION, STEER_SATURATION)\n",
    "        \n",
    "        # State \n",
    "        X_coord_t = X_t[:,0]\n",
    "        Y_coord_t = X_t[:,1]\n",
    "        Theta_t   = X_t[:,2]\n",
    "        \n",
    "        # State Transition\n",
    "        X_t[:,0] +=  V_t * torch.cos(Theta_t) * DELTA_Time\n",
    "        X_t[:,1] +=  V_t * torch.sin(Theta_t) * DELTA_Time\n",
    "        X_t[:,2] +=  V_t / L * torch.tan(Phi_t) * DELTA_Time\n",
    "\n",
    "        XX_tensor.append(X_t.clone())\n",
    "        \n",
    "    \n",
    "        \n",
    "    XX_tensor  = torch.stack(XX_tensor, -1) #.permute(0,1, 5, 2, 3, 4)\n",
    "    \n",
    "    \n",
    "    return XX_tensor\n",
    "    \n",
    "\n",
    "UU = torch.randn(N_t, N_u, N_smpl).to(DEVICE)\n",
    "\n",
    "### Simulate the random trajctories ###\n",
    "x_0 = torch.zeros(N_x).to(DEVICE)\n",
    "XX = calculate_state_trajectories(x_0, UU)"
   ]
  },
  {
   "cell_type": "code",
   "execution_count": 4,
   "id": "8307d3a2-d4be-46c5-ae17-dc2607caa595",
   "metadata": {},
   "outputs": [],
   "source": [
    "class CostCalculator:\n",
    "    def __init__(self, X_goal):\n",
    "        self.X_goal = X_goal\n",
    "        \n",
    "        self.Q_running = torch.FloatTensor([[1, 0, 0],[0, 1, 0],[0, 0, 0]]).to(DEVICE)\n",
    "        self.R_running = torch.FloatTensor([[.1, 0],[0, .1]]).to(DEVICE)\n",
    "\n",
    "        self.Q_terminal = torch.FloatTensor([[1, 0, 0],[0, 1, 0],[0, 0, 0]]).to(DEVICE)\n",
    "        self.R_terminal = torch.FloatTensor([[.1, 0],[0, .1]]).to(DEVICE)\n",
    "        \n",
    "        self.Box_to_Avoid = {}\n",
    "        self.Box_to_Avoid.update({'LB_X':4})\n",
    "        self.Box_to_Avoid.update({'UB_X':6})\n",
    "        self.Box_to_Avoid.update({'LB_Y':4})\n",
    "        self.Box_to_Avoid.update({'UB_Y':8})\n",
    "        self.GAP = 0.2\n",
    "        self.W_penalty = 10000\n",
    "        \n",
    "        \n",
    "    def calcualte(self, XX, UU):\n",
    "        \n",
    "        N_smpl, N_state, N_time = XX.size()\n",
    "        \n",
    "        ### Repeat and reshaping the tensors ###\n",
    "        XX_goal = self.X_goal.unsqueeze(-1)\n",
    "        XX_goal = XX_goal.repeat(N_smpl, 1, N_time)\n",
    "        \n",
    "        ##################################\n",
    "        ### Calculate the running cost ###\n",
    "        ##################################\n",
    "        \n",
    "        ### Error Cost: x_T*Q*x ###\n",
    "        QQ = self.Q_running.unsqueeze(0).unsqueeze(0).repeat(N_smpl, N_time, 1, 1)\n",
    "        EE = (XX - XX_goal).unsqueeze(-1).permute(0,2,1,3)\n",
    "        EE_T = EE.permute(0,1,3,2)\n",
    "        EEQQEE = torch.matmul(EE_T, torch.matmul(QQ, EE))\n",
    "        ### Control Cost: u_T*R*u ###\n",
    "        RR = self.R_running.unsqueeze(0).unsqueeze(0).repeat(N_smpl, N_time, 1, 1)\n",
    "        UU = UU.permute(2, 0, 1).unsqueeze(-1)\n",
    "        UU_T = UU.permute(0,1,3,2)\n",
    "        UURRUU = torch.matmul(UU_T, torch.matmul(RR, UU))\n",
    "        ### Indicator in the obstacle space ###\n",
    "        XX_x = XX[:, 0, :]\n",
    "        XX_y = XX[:, 1, :]\n",
    "        \n",
    "        LB_X = self.Box_to_Avoid['LB_X']\n",
    "        UB_X = self.Box_to_Avoid['UB_X']\n",
    "        LB_Y = self.Box_to_Avoid['LB_Y']\n",
    "        UB_Y = self.Box_to_Avoid['UB_Y']\n",
    "        GAP  = self.GAP\n",
    "        W_penalty = self.W_penalty\n",
    "        \n",
    "        If_Within_Obstacle = (XX_x > LB_X-GAP).type(torch.float)*(XX_x < UB_X+GAP).type(torch.float)*(XX_y > LB_Y-GAP).type(torch.float)*(XX_y < UB_Y+GAP).type(torch.float)\n",
    "        If_Within_Obstacle = If_Within_Obstacle.unsqueeze(-1)\n",
    "        \n",
    "        ### Running cost L tensor ###\n",
    "        #LL = EEQQEE.squeeze() + UURRUU.squeeze() + W_penalty * If_Within_Obstacle.squeeze()\n",
    "        LL = W_penalty * If_Within_Obstacle.squeeze()\n",
    "        \n",
    "        ###################################\n",
    "        ### Calculate the terminal cost ###\n",
    "        ###################################\n",
    "        XX_terminal  = XX[:,:,-1].unsqueeze(-1)\n",
    "        XX_goal = XX_goal[:,:,-1].unsqueeze(-1)\n",
    "        \n",
    "        ### Error Cost: x_T*Q*x ###\n",
    "        QQ = self.Q_terminal.unsqueeze(0).repeat(N_smpl, 1, 1)\n",
    "        EE = (XX_terminal - XX_goal)\n",
    "        EE_T = EE.permute(0,2,1)\n",
    "        EEQQEE = torch.matmul(EE_T, torch.matmul(QQ, EE)).squeeze()\n",
    "        \n",
    "        \n",
    "        UU_terminal = UU[:,-1,:,:].squeeze().unsqueeze(-1)\n",
    "        RR = self.R_terminal.unsqueeze(0).repeat(N_smpl, 1, 1)\n",
    "        UU_terminal_T = UU_terminal.permute(0, 2, 1)\n",
    "        UURRUU = torch.matmul(UU_terminal_T, torch.matmul(RR, UU_terminal)).squeeze()\n",
    "        \n",
    "        FF = EEQQEE.squeeze() + 1*UURRUU.squeeze()\n",
    "        \n",
    "        cost = torch.mean(LL, 1) + FF\n",
    "                \n",
    "        return cost\n",
    "\n",
    "UU = torch.randn(N_t, N_u, N_smpl).to(DEVICE)\n",
    "\n",
    "### Simulate the random trajctories ###\n",
    "x_0 = torch.zeros(N_x).to(DEVICE)\n",
    "XX = calculate_state_trajectories(x_0, UU)\n",
    "\n",
    "X_goal = torch.FloatTensor([[10, 10, 0]]).to(DEVICE)     \n",
    "cost_calculator = CostCalculator(X_goal)\n",
    "cost = cost_calculator.calcualte(XX, UU)"
   ]
  },
  {
   "cell_type": "markdown",
   "id": "wireless-faculty",
   "metadata": {},
   "source": [
    "We consider the two alternative destinations: (4, 10) and (5, 5),\n",
    "in addition to the primary desination (10, 10).\n",
    "\n",
    "And the usual quadratic cost are used with\n",
    "\\begin{equation}\n",
    "C(x, u) = (x - x_\\text{tgt})^\\top Q (x - x_\\text{tgt}) + u^\\top R u\n",
    "\\end{equation}"
   ]
  },
  {
   "cell_type": "code",
   "execution_count": 10,
   "id": "ready-belgium",
   "metadata": {},
   "outputs": [],
   "source": [
    "import tqdm\n",
    "\n",
    "### Simulate the random trajctories ###\n",
    "x_0 = torch.zeros(N_x).to(DEVICE)\n",
    "X_goal = torch.FloatTensor([[8, 8, 0]]).to(DEVICE)      \n",
    "cost_calculator = CostCalculator(X_goal)\n",
    "\n",
    "LAMBDA = 0.01 # MPPI Param\n",
    "\n",
    "def run_sim():\n",
    "    x_t = x_0 # Initizlize the state for SIM\n",
    "    T_sim = 1000\n",
    "\n",
    "    x_sim_result = []\n",
    "    u_sim_result = []\n",
    "    random_u_variance_result = []\n",
    "    mean_energy_result = []\n",
    "    variance_energy_result = []\n",
    "\n",
    "    for t in tqdm.tqdm(range(T_sim)):\n",
    "        \n",
    "        ### Sampling and construct the control table ###\n",
    "        UU = torch.randn(N_t, N_u, N_smpl).to(DEVICE)\n",
    "        \n",
    "        ### Simulate the random trajctories for Optimizaiton (MPPI) ###\n",
    "        XX = calculate_state_trajectories(x_t, UU)\n",
    "        \n",
    "        ### Calcualte the costs of state trajectories ###\n",
    "        J = cost_calculator.calcualte(XX, UU)\n",
    "        \n",
    "        ### Stochastic optimziaiton (MPPI) ####\n",
    "        # Now get the weight for MPPI \n",
    "        energy = torch.exp(-1/LAMBDA*(J-J.min()))\n",
    "        weight_mppi = energy / torch.sum(energy)\n",
    "        \n",
    "        \n",
    "        \n",
    "        \n",
    "        # Get weighted sum for u_t\n",
    "        U_first_samples = UU[0,:,:].squeeze() # <--- epsilon\n",
    "        \n",
    "        ### Monitoring variables ###\n",
    "        ### epsilon * w, where w = energy\n",
    "        ### ------------------\n",
    "        ###  average(energy) #\n",
    "        \n",
    "        weighted_controls = U_first_samples*energy/(energy.mean())\n",
    "        var_control = weighted_controls.var().item()\n",
    "        random_u_variance_result.append(var_control)\n",
    "        \n",
    "        mean_energy_result.append(energy.mean().item())\n",
    "        variance_energy_result.append(energy.var().item())\n",
    "        \n",
    "        \n",
    "        \n",
    "        u_t  = torch.sum(U_first_samples*weight_mppi,1)\n",
    "        \n",
    "        ### Use it with the system ###\n",
    "        # Control\n",
    "        v_t   = u_t[0]\n",
    "        #v_t   = torch.clamp(u_t[0], 0, 1)\n",
    "        phi_t = torch.clamp(u_t[1] * STEER_FACTOR, -STEER_SATURATION, STEER_SATURATION)\n",
    "        \n",
    "        # State \n",
    "        x_coord_t = x_t[0]\n",
    "        y_coord_t = x_t[1]\n",
    "        theta_t   = x_t[2]\n",
    "        \n",
    "        # State Transition\n",
    "        x_t[0] +=  v_t * torch.cos(theta_t) * DELTA_Time\n",
    "        x_t[1] +=  v_t * torch.sin(theta_t) * DELTA_Time\n",
    "        x_t[2] +=  v_t / L * torch.tan(phi_t) * DELTA_Time\n",
    "        \n",
    "        ### Append data for plotting ###\n",
    "        x_sim_result.append([x_t.cpu().numpy().copy()])\n",
    "        u_sim_result.append([u_t.cpu().numpy().copy()])\n",
    "        \n",
    "        #print(energy.var(), energy.max(), energy.min())\n",
    "\n",
    "    x_sim_result = np.vstack(x_sim_result)\n",
    "    u_sim_result = np.vstack(u_sim_result)\n",
    "    random_u_variance_result = np.array(random_u_variance_result) \n",
    "    mean_energy_result = np.array(mean_energy_result)\n",
    "    variance_energy_result = np.array(variance_energy_result)\n",
    "    \n",
    "    return x_sim_result, u_sim_result, random_u_variance_result, mean_energy_result, variance_energy_result"
   ]
  },
  {
   "cell_type": "code",
   "execution_count": 11,
   "id": "transparent-award",
   "metadata": {},
   "outputs": [
    {
     "name": "stderr",
     "output_type": "stream",
     "text": [
      "100%|███████████████████████████████████████████████████████████████████████████| 1000/1000 [00:08<00:00, 112.70it/s]\n",
      "No handles with labels found to put in legend.\n",
      "The PostScript backend does not support transparency; partially transparent artists will be rendered opaque.\n",
      "The PostScript backend does not support transparency; partially transparent artists will be rendered opaque.\n"
     ]
    },
    {
     "data": {
      "image/png": "[encoded data removed]",
      "text/plain": [
       "<Figure size 432x288 with 1 Axes>"
      ]
     },
     "metadata": {
      "needs_background": "light"
     },
     "output_type": "display_data"
    }
   ],
   "source": [
    "import matplotlib.pyplot as plt\n",
    "from matplotlib.patches import Rectangle\n",
    "\n",
    "\n",
    "fig, ax = plt.subplots()\n",
    "    \n",
    "x_sim_result, u_sim_result, random_u_variance_result, mean_energy_result, variance_energy_result = run_sim()\n",
    "\n",
    "x = x_sim_result[:,0]\n",
    "y = x_sim_result[:,1]\n",
    "\n",
    "ax.plot(x, y) \n",
    "    \n",
    "### Add goal positions ###\n",
    "if DEVICE != \"cpu\":\n",
    "    np_X_goal = X_goal.cpu().numpy()\n",
    "else:\n",
    "    np_X_goal = X_goal.numpy()\n",
    "\n",
    "### Add goal positions ###\n",
    "ax.plot(np_X_goal[0,0], np_X_goal[0,1], 'bo')\n",
    "\n",
    "### Add the rect. obs. ###\n",
    "LB_X = cost_calculator.Box_to_Avoid['LB_X']\n",
    "UB_X = cost_calculator.Box_to_Avoid['UB_X']\n",
    "LB_Y = cost_calculator.Box_to_Avoid['LB_Y']\n",
    "UB_Y = cost_calculator.Box_to_Avoid['UB_Y']\n",
    "\n",
    "ax.add_patch(Rectangle((LB_X, LB_Y), UB_X - LB_X, UB_Y - LB_Y))\n",
    "\n",
    "    \n",
    "ax.grid()\n",
    "plt.legend(loc='lower right')\n",
    "fig.savefig('figures/example2.eps', format='eps')\n",
    "fig.savefig('figures/example2.png')\n",
    "plt.show()"
   ]
  },
  {
   "cell_type": "code",
   "execution_count": 12,
   "id": "6d8e5e16-c234-4e15-b242-b726c60efa3a",
   "metadata": {},
   "outputs": [
    {
     "data": {
      "text/plain": [
       "[<matplotlib.lines.Line2D at 0x7f6de4de59a0>]"
      ]
     },
     "execution_count": 12,
     "metadata": {},
     "output_type": "execute_result"
    },
    {
     "data": {
      "image/png": "[encoded data removed]",
      "text/plain": [
       "<Figure size 432x288 with 1 Axes>"
      ]
     },
     "metadata": {
      "needs_background": "light"
     },
     "output_type": "display_data"
    }
   ],
   "source": [
    "plt.plot(random_u_variance_result)"
   ]
  },
  {
   "cell_type": "code",
   "execution_count": 13,
   "id": "57a3624e-af62-474b-bb03-1aec2b3d7308",
   "metadata": {},
   "outputs": [
    {
     "data": {
      "text/plain": [
       "[<matplotlib.lines.Line2D at 0x7f6de4dbf940>]"
      ]
     },
     "execution_count": 13,
     "metadata": {},
     "output_type": "execute_result"
    },
    {
     "data": {
      "image/png": "[encoded data removed]",
      "text/plain": [
       "<Figure size 432x288 with 1 Axes>"
      ]
     },
     "metadata": {
      "needs_background": "light"
     },
     "output_type": "display_data"
    }
   ],
   "source": [
    "plt.plot(mean_energy_result)"
   ]
  },
  {
   "cell_type": "code",
   "execution_count": 14,
   "id": "840d187c-991e-452d-947a-0141a5bb5497",
   "metadata": {},
   "outputs": [
    {
     "data": {
      "text/plain": [
       "[<matplotlib.lines.Line2D at 0x7f6de4d215e0>]"
      ]
     },
     "execution_count": 14,
     "metadata": {},
     "output_type": "execute_result"
    },
    {
     "data": {
      "image/png": "[encoded data removed]",
      "text/plain": [
       "<Figure size 432x288 with 1 Axes>"
      ]
     },
     "metadata": {
      "needs_background": "light"
     },
     "output_type": "display_data"
    }
   ],
   "source": [
    "plt.plot(variance_energy_result)"
   ]
  },
  {
   "cell_type": "code",
   "execution_count": null,
   "id": "b6909d88-8db9-4413-8391-fb3066c71547",
   "metadata": {},
   "outputs": [],
   "source": []
  },
  {
   "cell_type": "code",
   "execution_count": null,
   "id": "57c6bbfe-0bad-468e-901a-7d6ce3cbdfea",
   "metadata": {},
   "outputs": [],
   "source": []
  }
 ],
 "metadata": {
  "kernelspec": {
   "display_name": "Python 3 (ipykernel)",
   "language": "python",
   "name": "python3"
  },
  "language_info": {
   "codemirror_mode": {
    "name": "ipython",
    "version": 3
   },
   "file_extension": ".py",
   "mimetype": "text/x-python",
   "name": "python",
   "nbconvert_exporter": "python",
   "pygments_lexer": "ipython3",
   "version": "3.8.10"
  }
 },
 "nbformat": 4,
 "nbformat_minor": 5
}
