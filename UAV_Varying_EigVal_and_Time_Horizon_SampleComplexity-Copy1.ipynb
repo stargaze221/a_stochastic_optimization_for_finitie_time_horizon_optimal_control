{
 "cells": [
  {
   "cell_type": "markdown",
   "id": "tribal-audience",
   "metadata": {},
   "source": [
    "# Vehicle Model"
   ]
  },
  {
   "cell_type": "markdown",
   "id": "premium-parliament",
   "metadata": {},
   "source": [
    "We consider the double integrator as a model for UAV flight path simulation model as below.\n",
    "\n",
    "The system dynamics \n",
    "\n",
    "\\begin{equation}\n",
    "x_{t+1} = A x_t + B u_t, \\quad x_0 = [0 ,0, 0, 0]^\\top,\n",
    "\\end{equation}\n",
    "where\n",
    "\\begin{equation}\n",
    "A = \\begin{bmatrix}\n",
    "     1 & 0 & 0.1 & 0   \\\\\n",
    "     0 & 1 &  0 & 0.1 \\\\\n",
    "     0 & 0 &  1+a & 0   \\\\\n",
    "     0 & 0 &  0 & 1+a\n",
    "     \\end{bmatrix}\n",
    "\\quad\n",
    "B = \\begin{bmatrix}\n",
    "     0  & 0  \\\\\n",
    "     0  & 0  \\\\\n",
    "     0.1 & 0  \\\\\n",
    "     0  & 0.1\n",
    "     \\end{bmatrix}\n",
    "\\end{equation} \n",
    "\n",
    "Now, we need to feed the control input tensor to the dynamics for the time horizon $N$."
   ]
  },
  {
   "cell_type": "markdown",
   "id": "915bd0be-51cb-4b32-a3ef-d9f0eff35841",
   "metadata": {},
   "source": [
    "We consider the primary desination (8, 8).\n",
    "\n",
    "And the usual quadratic cost are used with\n",
    "\\begin{equation}\n",
    "L_\\text{q}(x, u) = (x - x_\\text{tgt})^\\top Q (x - x_\\text{tgt}) + u^\\top R u\n",
    "\\end{equation}\n",
    "\n",
    "Now, we are considering the obstacle avoidance constraint. A simple inequality with vertices (4, 4) and (6, 8). The obstacle occupy the following intervals.\n",
    "\\begin{equation}\n",
    "\\begin{aligned}\n",
    "    4 \\leq x \\leq 6 \\\\\n",
    "    4 \\leq y \\leq 8\n",
    "\\end{aligned}\n",
    "\\end{equation}\n",
    "\n",
    "We add the penalty cost to the quadratic cost with the penalty weight $W_\\text{penalty}$ as\n",
    "\\begin{equation}\n",
    "L(x, u) = L_\\text{q}(x, u) + W_\\text{penalty}\\mathbb{1}[x \\in \\text{Obstacle}]\n",
    "\\end{equation}"
   ]
  },
  {
   "cell_type": "code",
   "execution_count": 73,
   "id": "9707794c-e581-4597-a714-8200a675607d",
   "metadata": {},
   "outputs": [],
   "source": [
    "import torch\n",
    "DEVICE = torch.device(\"cuda:0\" if torch.cuda.is_available() else \"cpu\")\n",
    "\n",
    "class TrajectoryOptimization:\n",
    "\n",
    "    def __init__(self, a, N):\n",
    "        \n",
    "        ### Vehicle Dyanmics ###\n",
    "        self.a = a\n",
    "        self.A = torch.FloatTensor([[1, 0, 0.1, 0],[0, 1, 0, 0.1],[0, 0, 1+a,0],[0,0,0,1+a]]).to(DEVICE)\n",
    "        self.B = torch.FloatTensor([[0, 0],[0, 0],[.1, 0],[0,.1]]).to(DEVICE)\n",
    "        self.x_0 = torch.FloatTensor([0, 0, 0, 0]).to(DEVICE)\n",
    "        \n",
    "        ### PI Param ###\n",
    "        self.N   = N  # Time horizon\n",
    "        self.N_u = 2  # dimension of the control input.\n",
    "        self.N_x = 4  # dimension of the state space.\n",
    "        self.N_smpl = 1000000 # MPPI\n",
    "        \n",
    "        ### Cost for the mission ###\n",
    "        self.X_goal = torch.FloatTensor([[10, 10, 0, 0]]).to(DEVICE)\n",
    "        \n",
    "        self.Q_running = torch.FloatTensor([[1, 0, 0, 0],[0, 1, 0, 0],[0, 0, 1, 0],[0, 0, 0, 1]]).to(DEVICE)\n",
    "        self.R_running = torch.FloatTensor([[0, 0],[0, 0]]).to(DEVICE)\n",
    "\n",
    "        self.Q_terminal = torch.FloatTensor([[1, 0, 0, 0],[0, 1, 0, 0],[0, 0, 1, 0],[0, 0, 0, 1]]).to(DEVICE)\n",
    "        self.R_terminal = torch.FloatTensor([[0, 0],[0, 0]]).to(DEVICE)\n",
    "        \n",
    "        self.Box_to_Avoid = {}\n",
    "        self.Box_to_Avoid.update({'LB_X':4})\n",
    "        self.Box_to_Avoid.update({'UB_X':6})\n",
    "        self.Box_to_Avoid.update({'LB_Y':4})\n",
    "        self.Box_to_Avoid.update({'UB_Y':8})\n",
    "        self.GAP = 0.2\n",
    "        self.W_penalty = 10000\n",
    "        \n",
    "        \n",
    "        \n",
    "    def calculate_state_trajectories(self,x_0):\n",
    "        '''\n",
    "        given:\n",
    "        A : 4 by 4 matrix\n",
    "        B : 4 by 2 matrix\n",
    "        x_0 initial state with size (4)\n",
    "        U_tensor: N_path, M_destination, N_time, N_u, N_smpl\n",
    "\n",
    "        return:\n",
    "        XX_tensor: N_path, M_destination, N_time, N_u, N_smpl\n",
    "        '''\n",
    "\n",
    "        ### Get the shape of the input tensor ###\n",
    "        U_tensor = torch.randn(self.N, self.N_u, self.N_smpl).to(DEVICE)\n",
    "        N_time, N_u, N_smpl = U_tensor.size()\n",
    "\n",
    "        ### Initialize the state value ###\n",
    "        #print('x_0', x_0.size())\n",
    "        X_t = x_0.unsqueeze(-1).repeat(1, 1, N_smpl)\n",
    "        # X_t: 1, N_x, N_smpl\n",
    "\n",
    "        X_t = X_t.to(DEVICE).permute(2,1,0)#.unsqueeze(-1)\n",
    "        BB = self.B.unsqueeze(0).repeat(N_smpl, 1, 1).to(DEVICE)\n",
    "        AA = self.A.unsqueeze(0).repeat(N_smpl, 1, 1).to(DEVICE)\n",
    "\n",
    "        XX_tensor = []\n",
    "        for t in range(N_time):\n",
    "            U_t = U_tensor[t,:,:].permute(1,0).unsqueeze(-1)\n",
    "            BU = torch.matmul(BB, U_t)\n",
    "            AX = torch.matmul(AA, X_t)\n",
    "            X_t = AX + BU\n",
    "            XX_tensor.append(X_t)\n",
    "        XX_tensor  = torch.stack(XX_tensor, -1).squeeze()\n",
    "        return XX_tensor, U_tensor\n",
    "    \n",
    "    def calcualte_costs(self, XX, UU):\n",
    "        \n",
    "        N_smpl, N_state, N_time = XX.size()\n",
    "        \n",
    "        ### Repeat and reshaping the tensors ###\n",
    "        XX_goal = self.X_goal.unsqueeze(-1)\n",
    "        XX_goal = XX_goal.repeat(N_smpl, 1, N_time)\n",
    "        \n",
    "        ##################################\n",
    "        ### Calculate the running cost ###\n",
    "        ##################################\n",
    "        \n",
    "        ### Error Cost: x_T*Q*x ###\n",
    "        QQ = self.Q_running.unsqueeze(0).unsqueeze(0).repeat(N_smpl, N_time, 1, 1)\n",
    "        EE = (XX - XX_goal).unsqueeze(-1).permute(0,2,1,3)\n",
    "        EE_T = EE.permute(0,1,3,2)\n",
    "        EEQQEE = torch.matmul(EE_T, torch.matmul(QQ, EE))\n",
    "        ### Control Cost: u_T*R*u ###\n",
    "        RR = self.R_running.unsqueeze(0).unsqueeze(0).repeat(N_smpl, N_time, 1, 1)\n",
    "        UU = UU.permute(2, 0, 1).unsqueeze(-1)\n",
    "        UU_T = UU.permute(0,1,3,2)\n",
    "        UURRUU = torch.matmul(UU_T, torch.matmul(RR, UU))\n",
    "        ### Indicator in the obstacle space ###\n",
    "        XX_x = XX[:, 0, :]\n",
    "        XX_y = XX[:, 1, :]\n",
    "        \n",
    "        LB_X = self.Box_to_Avoid['LB_X']\n",
    "        UB_X = self.Box_to_Avoid['UB_X']\n",
    "        LB_Y = self.Box_to_Avoid['LB_Y']\n",
    "        UB_Y = self.Box_to_Avoid['UB_Y']\n",
    "        GAP  = self.GAP\n",
    "        W_penalty = self.W_penalty\n",
    "        \n",
    "        If_Within_Obstacle = (XX_x > LB_X-GAP).type(torch.float)*(XX_x < UB_X+GAP).type(torch.float)*(XX_y > LB_Y-GAP).type(torch.float)*(XX_y < UB_Y+GAP).type(torch.float)\n",
    "        If_Within_Obstacle = If_Within_Obstacle.unsqueeze(-1)\n",
    "        \n",
    "        ### Running cost L tensor ###\n",
    "        #LL = EEQQEE.squeeze() + UURRUU.squeeze() + W_penalty * If_Within_Obstacle.squeeze()\n",
    "        LL = EEQQEE.squeeze() + W_penalty * If_Within_Obstacle.squeeze()\n",
    "        #LL = W_penalty * If_Within_Obstacle.squeeze()\n",
    "        \n",
    "        ###################################\n",
    "        ### Calculate the terminal cost ###\n",
    "        ###################################\n",
    "        XX_terminal  = XX[:,:,-1].unsqueeze(-1)\n",
    "        XX_goal = XX_goal[:,:,-1].unsqueeze(-1)\n",
    "        \n",
    "        ### Error Cost: x_T*Q*x ###\n",
    "        QQ = self.Q_terminal.unsqueeze(0).repeat(N_smpl, 1, 1)\n",
    "        EE = (XX_terminal - XX_goal)\n",
    "        EE_T = EE.permute(0,2,1)\n",
    "        EEQQEE = torch.matmul(EE_T, torch.matmul(QQ, EE)).squeeze()\n",
    "        \n",
    "        \n",
    "        UU_terminal = UU[:,-1,:,:].squeeze().unsqueeze(-1)\n",
    "        RR = self.R_terminal.unsqueeze(0).repeat(N_smpl, 1, 1)\n",
    "        UU_terminal_T = UU_terminal.permute(0, 2, 1)\n",
    "        UURRUU = torch.matmul(UU_terminal_T, torch.matmul(RR, UU_terminal)).squeeze()\n",
    "        \n",
    "        FF = EEQQEE.squeeze() + UURRUU.squeeze()\n",
    "        \n",
    "        cost = torch.mean(LL, 1) + FF\n",
    "                \n",
    "        return cost\n"
   ]
  },
  {
   "cell_type": "markdown",
   "id": "pacific-suspension",
   "metadata": {},
   "source": [
    "Now, we are runing the simulation."
   ]
  },
  {
   "cell_type": "code",
   "execution_count": 96,
   "id": "third-environment",
   "metadata": {},
   "outputs": [],
   "source": [
    "import tqdm\n",
    "\n",
    "### Simulate the random trajctories ###\n",
    "x_0 = torch.zeros(N_x).to(DEVICE)\n",
    "X_goal = torch.FloatTensor([[8, 8, 0, 0]]).to(DEVICE)     \n",
    "cost_calculator = CostCalculator(X_goal)\n",
    "\n",
    "LAMBDA = 1.0 # MPPI Param\n",
    "\n",
    "def stochastic_trajectory_optimization(a, N):\n",
    "    \n",
    "    optmizer = TrajectoryOptimization(a, N)\n",
    "        \n",
    "\n",
    "    ### Simulate the random trajctories for Optimizaiton (MPPI) ###\n",
    "    XX, UU = optmizer.calculate_state_trajectories(x_0)  # XX shape (N_smpl, N_x, N)  where N is the time horizon \n",
    "\n",
    "    ### Calcualte the costs of state trajectories ###\n",
    "    J = cost_calculator.calcualte(XX, UU)\n",
    "\n",
    "    ### Stochastic optimziaiton (MPPI) ####\n",
    "    # Now get the weight for MPPI \n",
    "    energy = torch.exp(-1/LAMBDA*(J-J.min()))\n",
    "    weight_mppi = energy / torch.sum(energy)\n",
    "\n",
    "    # Get weighted sum for u_t\n",
    "    U_first_samples = UU[0,:,:].squeeze()\n",
    "    u_t  = torch.sum(U_first_samples*weight_mppi,1)\n",
    "    \n",
    "    #print('XX', XX.size())\n",
    "    #print('UU', UU.size())\n",
    "    #print('J', J.size())\n",
    "    #print('energy', energy.size())\n",
    "    #print('weight_mppi', weight_mppi.size())\n",
    "    \n",
    "    # Variance of the weighted control\n",
    "    # The random variable to see is \"rv_energy*rv_control/E[energy]\"\n",
    "    mean_energy = energy.mean()\n",
    "    weighted_control_sample = U_first_samples * energy  / mean_energy\n",
    "    var_val = weighted_control_sample.var().item()\n",
    "    mean_energy_val = mean_energy.item()\n",
    "    \n",
    "    return var_val, mean_energy_val\n",
    "\n",
    "\n",
    "import numpy as np\n",
    "\n",
    "list_a_s = [-0.5, -0.1, 0, 0.1]\n",
    "list_N = [5, 10, 15, 20, 25, 30]\n",
    "\n",
    "list_var_2D = []\n",
    "list_mean_energy_2D = []\n",
    "for a in list_a_s:\n",
    "    list_var_1D_N = []\n",
    "    list_mean_energy_1D_N = []\n",
    "    for N in list_N:\n",
    "        var_val, mean_energy_val = stochastic_trajectory_optimization(a, N)\n",
    "        list_var_1D_N.append(var_val)\n",
    "        list_mean_energy_1D_N.append(mean_energy_val)\n",
    "    list_var_2D.append(np.array(list_var_1D_N))\n",
    "    list_mean_energy_2D.append(np.array(list_mean_energy_1D_N))\n",
    "list_var_2D = np.array(list_var_2D)\n",
    "list_mean_energy_2D = np.array(list_mean_energy_2D)"
   ]
  },
  {
   "cell_type": "code",
   "execution_count": 97,
   "id": "7f1edab0-0754-4b33-8470-2667283aabe4",
   "metadata": {},
   "outputs": [
    {
     "name": "stdout",
     "output_type": "stream",
     "text": [
      "a: -0.5 N: 5 Var: 9.562917709350586 Mean_Energy: 0.011574646458029747\n",
      "a: -0.5 N: 10 Var: 69.13986206054688 Mean_Energy: 0.0007828766829334199\n",
      "a: -0.5 N: 15 Var: 333.0107116699219 Mean_Energy: 0.00028509568073786795\n",
      "a: -0.5 N: 20 Var: 1960.0213623046875 Mean_Energy: 5.726259041693993e-05\n",
      "a: -0.5 N: 25 Var: 7140.4560546875 Mean_Energy: 2.090838097501546e-05\n",
      "a: -0.5 N: 30 Var: 5729.8671875 Mean_Energy: 3.369625119375996e-05\n",
      "a: -0.1 N: 5 Var: 44.91808319091797 Mean_Energy: 0.0022504653315991163\n",
      "a: -0.1 N: 10 Var: 16069.3076171875 Mean_Energy: 1.5444107702933252e-05\n",
      "a: -0.1 N: 15 Var: 191529.359375 Mean_Energy: 2.8619281238206895e-06\n",
      "a: -0.1 N: 20 Var: 462712.3125 Mean_Energy: 3.928224487026455e-06\n",
      "a: -0.1 N: 25 Var: 2222178.0 Mean_Energy: 1.3588086176241632e-06\n",
      "a: -0.1 N: 30 Var: 155308.53125 Mean_Energy: 2.5671834009699523e-06\n",
      "a: 0 N: 5 Var: 66.40017700195312 Mean_Energy: 0.0015260027721524239\n",
      "a: 0 N: 10 Var: 51037.80078125 Mean_Energy: 1.2453535418899264e-05\n",
      "a: 0 N: 15 Var: 1450879.25 Mean_Energy: 2.669627292561927e-06\n",
      "a: 0 N: 20 Var: 1644512.75 Mean_Energy: 1.5999466995708644e-06\n",
      "a: 0 N: 25 Var: 551162.875 Mean_Energy: 1.6725201703593484e-06\n",
      "a: 0 N: 30 Var: 886779.1875 Mean_Energy: 1.0001103873946704e-06\n",
      "a: 0.1 N: 5 Var: 80.88926696777344 Mean_Energy: 0.001582021010108292\n",
      "a: 0.1 N: 10 Var: 114010.03125 Mean_Energy: 1.4313022802525666e-05\n",
      "a: 0.1 N: 15 Var: 2814094.75 Mean_Energy: 1.1069828360632528e-06\n",
      "a: 0.1 N: 20 Var: 939226.4375 Mean_Energy: 3.0324399631354026e-06\n",
      "a: 0.1 N: 25 Var: 1919265.125 Mean_Energy: 1.1104643817816395e-06\n",
      "a: 0.1 N: 30 Var: 1132397.375 Mean_Energy: 1.5836006923564128e-06\n"
     ]
    }
   ],
   "source": [
    "for i in range(len(list_a_s)):\n",
    "    for j in range(len(list_N)):\n",
    "        print('a:', list_a_s[i], 'N:', list_N[j], 'Var:', list_var_2D[i][j], 'Mean_Energy:', list_mean_energy_2D[i][j])"
   ]
  },
  {
   "cell_type": "code",
   "execution_count": 98,
   "id": "46f02b3f-42c4-40a0-8c75-7a29d1139877",
   "metadata": {},
   "outputs": [
    {
     "name": "stdout",
     "output_type": "stream",
     "text": [
      "a: -0.5 [   9.56291771   69.13986206  333.01071167 1960.0213623  7140.45605469\n",
      " 5729.8671875 ]\n",
      "a: -0.1 [4.49180832e+01 1.60693076e+04 1.91529359e+05 4.62712312e+05\n",
      " 2.22217800e+06 1.55308531e+05]\n",
      "a: 0 [6.64001770e+01 5.10378008e+04 1.45087925e+06 1.64451275e+06\n",
      " 5.51162875e+05 8.86779188e+05]\n",
      "a: 0.1 [8.08892670e+01 1.14010031e+05 2.81409475e+06 9.39226438e+05\n",
      " 1.91926512e+06 1.13239738e+06]\n"
     ]
    },
    {
     "data": {
      "image/png": "[encoded data removed]",
      "text/plain": [
       "<Figure size 432x288 with 1 Axes>"
      ]
     },
     "metadata": {
      "needs_background": "light"
     },
     "output_type": "display_data"
    }
   ],
   "source": [
    "import matplotlib.pyplot as plt\n",
    "\n",
    "fig, ax = plt.subplots()\n",
    "\n",
    "for i in range(len(list_a_s)):\n",
    "    print('a:', list_a_s[i], list_var_2D[i])\n",
    "    ax.plot(list_N, list_var_2D[i], label='a='+str(list_a_s[i]))\n",
    "\n",
    "ax.set_yscale('log')\n",
    "ax.legend()\n",
    "ax.grid()\n",
    "ax.set_xlabel('Time horizon')\n",
    "ax.set_ylabel('Sample variance of weighted control')\n",
    "\n",
    "plt.tight_layout()\n",
    "fig.savefig('figures/figure2.pdf', format='pdf')\n",
    "fig.savefig('figures/figure2.png')\n",
    "plt.show()"
   ]
  },
  {
   "cell_type": "code",
   "execution_count": 83,
   "id": "241e8fe0-d503-47bb-b016-719df4f56a39",
   "metadata": {},
   "outputs": [
    {
     "name": "stdout",
     "output_type": "stream",
     "text": [
      "1 a\n",
      "2 b\n",
      "3 c\n"
     ]
    }
   ],
   "source": [
    "num_chars = zip([1,2,3], ['a','b','c'])\n",
    "for n, c in num_chars:\n",
    "    print(n,c)"
   ]
  },
  {
   "cell_type": "code",
   "execution_count": 102,
   "id": "806d9891-f2dc-4776-ab38-acf0e22c212a",
   "metadata": {},
   "outputs": [
    {
     "name": "stdout",
     "output_type": "stream",
     "text": [
      "a: -0.5 [   9.56291771   69.13986206  333.01071167 1960.0213623  7140.45605469\n",
      " 5729.8671875 ]\n",
      "a: -0.1 [4.49180832e+01 1.60693076e+04 1.91529359e+05 4.62712312e+05\n",
      " 2.22217800e+06 1.55308531e+05]\n",
      "a: 0 [6.64001770e+01 5.10378008e+04 1.45087925e+06 1.64451275e+06\n",
      " 5.51162875e+05 8.86779188e+05]\n",
      "a: 0.1 [8.08892670e+01 1.14010031e+05 2.81409475e+06 9.39226438e+05\n",
      " 1.91926512e+06 1.13239738e+06]\n"
     ]
    },
    {
     "data": {
      "image/png": "[encoded data removed]",
      "text/plain": [
       "<Figure size 432x288 with 1 Axes>"
      ]
     },
     "metadata": {
      "needs_background": "light"
     },
     "output_type": "display_data"
    }
   ],
   "source": [
    "\n",
    "\n",
    "fig, ax = plt.subplots()\n",
    "\n",
    "for i in range(len(list_a_s)):\n",
    "    print('a:', list_a_s[i], list_var_2D[i])\n",
    "    ax.plot(list_N, 1/(list_mean_energy_2D[i]), label='a='+str(list_a_s[i]))\n",
    "\n",
    "ax.set_yscale('log')\n",
    "ax.legend()\n",
    "ax.grid()\n",
    "ax.set_xlabel('Time horizon')\n",
    "ax.set_ylabel('Inverse of the sample weights\\'s average')\n",
    "\n",
    "plt.tight_layout()\n",
    "fig.savefig('figures/figure3.pdf', format='pdf')\n",
    "fig.savefig('figures/figure3.png')\n",
    "plt.show()\n",
    "\n"
   ]
  },
  {
   "cell_type": "code",
   "execution_count": null,
   "id": "c63c8e14-e53b-4efd-90a7-174fe21bbc18",
   "metadata": {},
   "outputs": [],
   "source": []
  },
  {
   "cell_type": "code",
   "execution_count": null,
   "id": "f47744f9-ffc3-407a-8530-de28c789042e",
   "metadata": {},
   "outputs": [],
   "source": []
  },
  {
   "cell_type": "code",
   "execution_count": null,
   "id": "cb6270aa-3239-4e41-8f3f-f41ebd0f64d6",
   "metadata": {},
   "outputs": [],
   "source": []
  },
  {
   "cell_type": "code",
   "execution_count": null,
   "id": "6b17de69-c997-4666-afbb-8e2ec3a2a374",
   "metadata": {},
   "outputs": [],
   "source": []
  },
  {
   "cell_type": "markdown",
   "id": "nonprofit-statistics",
   "metadata": {},
   "source": [
    "Simulate and Plot the results."
   ]
  },
  {
   "cell_type": "code",
   "execution_count": 136,
   "id": "qualified-facing",
   "metadata": {},
   "outputs": [
    {
     "name": "stderr",
     "output_type": "stream",
     "text": [
      "100%|██████████████████████████████████████████████████████████████████████████████| 7000/7000 [01:23<00:00, 83.42it/s]\n",
      "No handles with labels found to put in legend.\n",
      "The PostScript backend does not support transparency; partially transparent artists will be rendered opaque.\n",
      "The PostScript backend does not support transparency; partially transparent artists will be rendered opaque.\n"
     ]
    },
    {
     "data": {
      "image/png": "[encoded data removed]",
      "text/plain": [
       "<Figure size 432x288 with 1 Axes>"
      ]
     },
     "metadata": {
      "needs_background": "light"
     },
     "output_type": "display_data"
    }
   ],
   "source": [
    "import matplotlib.pyplot as plt\n",
    "from matplotlib.patches import Rectangle\n",
    "\n",
    "\n",
    "fig, ax = plt.subplots()\n",
    "\n",
    "list_gammas = [0.0, 0.7]\n",
    "\n",
    "    \n",
    "x_sim_result, u_sim_result = run_sim()\n",
    "\n",
    "if DEVICE != \"cpu\":\n",
    "    x = x_sim_result[:,0].cpu().numpy()\n",
    "    y = x_sim_result[:,1].cpu().numpy()\n",
    "else:\n",
    "    x = x_sim_result[:,0].numpy()\n",
    "    y = x_sim_result[:,1].numpy()\n",
    "\n",
    "ax.plot(x, y) \n",
    "    \n",
    "### Add goal positions ###\n",
    "if DEVICE != \"cpu\":\n",
    "    np_X_goal = X_goal.cpu().numpy()\n",
    "else:\n",
    "    np_X_goal = X_goal.numpy()\n",
    "\n",
    "### Add goal positions ###\n",
    "ax.plot(np_X_goal[0,0], np_X_goal[0,1], 'bo')\n",
    "\n",
    "### Add the rect. obs. ###\n",
    "LB_X = cost_calculator.Box_to_Avoid['LB_X']\n",
    "UB_X = cost_calculator.Box_to_Avoid['UB_X']\n",
    "LB_Y = cost_calculator.Box_to_Avoid['LB_Y']\n",
    "UB_Y = cost_calculator.Box_to_Avoid['UB_Y']\n",
    "\n",
    "ax.add_patch(Rectangle((LB_X, LB_Y), UB_X - LB_X, UB_Y - LB_Y))\n",
    "    \n",
    "ax.grid()\n",
    "plt.legend(loc='lower right')\n",
    "fig.savefig('figures/example1.eps', format='eps')\n",
    "fig.savefig('figures/example1.png')\n",
    "plt.show()"
   ]
  },
  {
   "cell_type": "code",
   "execution_count": 137,
   "id": "fitting-wright",
   "metadata": {},
   "outputs": [],
   "source": [
    "import pickle\n",
    "\n",
    "dict_variance_mon={}\n",
    "\n",
    "pickle.dump([x,y], open('VAR_UAV_MPPI_'+str(a)+'_'+str(N)+'.p', \"wb\" ))"
   ]
  },
  {
   "cell_type": "markdown",
   "id": "e807493c-16a1-4016-85c1-61b031d48a88",
   "metadata": {},
   "source": [
    "# For the unstable (a = 0.5) and the stable (a=-0.5), let us see the variance."
   ]
  },
  {
   "cell_type": "code",
   "execution_count": null,
   "id": "regulated-authentication",
   "metadata": {},
   "outputs": [],
   "source": []
  },
  {
   "cell_type": "code",
   "execution_count": null,
   "id": "1bfc250c-b343-4fce-81aa-79fb6b309310",
   "metadata": {},
   "outputs": [],
   "source": []
  }
 ],
 "metadata": {
  "kernelspec": {
   "display_name": "Python 3",
   "language": "python",
   "name": "python3"
  },
  "language_info": {
   "codemirror_mode": {
    "name": "ipython",
    "version": 3
   },
   "file_extension": ".py",
   "mimetype": "text/x-python",
   "name": "python",
   "nbconvert_exporter": "python",
   "pygments_lexer": "ipython3",
   "version": "3.8.8"
  }
 },
 "nbformat": 4,
 "nbformat_minor": 5
}
