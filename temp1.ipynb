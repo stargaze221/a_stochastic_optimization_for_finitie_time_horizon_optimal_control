{
 "cells": [
  {
   "cell_type": "markdown",
   "id": "tribal-audience",
   "metadata": {},
   "source": [
    "# Vehicle Model"
   ]
  },
  {
   "cell_type": "markdown",
   "id": "premium-parliament",
   "metadata": {},
   "source": [
    "We consider the double integrator as a model for UAV flight path simulation model as below.\n",
    "\n",
    "The system dynamics \n",
    "\\begin{equation}\n",
    "x_{t+1} = A x_t + B u_t, \\quad x_0 = [0 ,0, 0, 0]^\\top,\n",
    "\\end{equation}\n",
    "where\n",
    "\\begin{equation}\n",
    "A = \\begin{bmatrix}\n",
    "     1 & 0 & 0.1 & 0   \\\\\n",
    "     0 & 1 &  0 & 0.1 \\\\\n",
    "     0 & 0 &  1 & 0   \\\\\n",
    "     0 & 0 &  0 & 1\n",
    "     \\end{bmatrix}\n",
    "\\quad\n",
    "B = \\begin{bmatrix}\n",
    "     0  & 0  \\\\\n",
    "     0  & 0  \\\\\n",
    "     0.1 & 0  \\\\\n",
    "     0  & 0.1\n",
    "     \\end{bmatrix}\n",
    "\\end{equation} \n",
    "\n",
    "Now, we need to feed the control input tensor to the dynamics for the time horizon $N$."
   ]
  },
  {
   "cell_type": "code",
   "execution_count": 129,
   "id": "expired-crystal",
   "metadata": {},
   "outputs": [
    {
     "name": "stdout",
     "output_type": "stream",
     "text": [
      "tensor([[1.0000, 0.0000, 0.1000, 0.0000],\n",
      "        [0.0000, 1.0000, 0.0000, 0.1000],\n",
      "        [0.0000, 0.0000, 1.0100, 0.0000],\n",
      "        [0.0000, 0.0000, 0.0000, 1.0100]], device='cuda:0')\n"
     ]
    }
   ],
   "source": [
    "import torch\n",
    "DEVICE = torch.device(\"cuda:0\" if torch.cuda.is_available() else \"cpu\")\n",
    "delta_A = 0.01\n",
    "\n",
    "A = torch.FloatTensor([[1, 0, 0.1, 0],[0, 1, 0, 0.1],[0, 0, 1+delta_A,0],[0,0,0,1+delta_A]]).to(DEVICE)\n",
    "#A =+ 0.01\n",
    "print(A)\n",
    "B = torch.FloatTensor([[0, 0],[0, 0],[.1, 0],[0,.1]]).to(DEVICE)\n",
    "x_0 = torch.FloatTensor([0, 0, 0, 0]).to(DEVICE)"
   ]
  },
  {
   "cell_type": "code",
   "execution_count": 147,
   "id": "olympic-jacksonville",
   "metadata": {},
   "outputs": [],
   "source": [
    "N   = 200 # Time horizon\n",
    "N_u = 2  # dimension of the control input.\n",
    "N_x = 4  # dimension of the state space.\n",
    "N_smpl = 10000 # MPPI "
   ]
  },
  {
   "cell_type": "markdown",
   "id": "becoming-journalist",
   "metadata": {},
   "source": [
    "# Functions and other utility for simulation"
   ]
  },
  {
   "cell_type": "code",
   "execution_count": 148,
   "id": "regulated-trademark",
   "metadata": {},
   "outputs": [],
   "source": [
    "### Simulate the multiple trajectories ###\n",
    "def calculate_state_trajectories(A, B, x_0, U_tensor):\n",
    "    \n",
    "    '''\n",
    "    given:\n",
    "    A : 4 by 4 matrix\n",
    "    B : 4 by 2 matrix\n",
    "    x_0 initial state with size (4)\n",
    "    U_tensor: N_path, M_destination, N_time, N_u, N_smpl\n",
    "    \n",
    "    return:\n",
    "    XX_tensor: N_path, M_destination, N_time, N_u, N_smpl\n",
    "    '''\n",
    "    \n",
    "    ### Get the shape of the input tensor ###\n",
    "    N_time, N_u, N_smpl = U_tensor.size()\n",
    "    \n",
    "    ### Initialize the state value ###\n",
    "    #print('x_0', x_0.size())\n",
    "    X_t = x_0.unsqueeze(-1).repeat(1, 1, N_smpl)\n",
    "    # X_t: 1, N_x, N_smpl\n",
    "    \n",
    "    X_t = X_t.to(DEVICE).permute(2,1,0)#.unsqueeze(-1)\n",
    "    BB = B.unsqueeze(0).repeat(N_smpl, 1, 1).to(DEVICE)\n",
    "    AA = A.unsqueeze(0).repeat(N_smpl, 1, 1).to(DEVICE)\n",
    "    \n",
    "    XX_tensor = []\n",
    "    for t in range(N_time):\n",
    "        U_t = U_tensor[t,:,:].permute(1,0).unsqueeze(-1)\n",
    "        BU = torch.matmul(BB, U_t)\n",
    "        AX = torch.matmul(AA, X_t)\n",
    "        X_t = AX + BU\n",
    "        XX_tensor.append(X_t)\n",
    "    XX_tensor  = torch.stack(XX_tensor, -1).squeeze()\n",
    "    return XX_tensor"
   ]
  },
  {
   "cell_type": "markdown",
   "id": "jewish-buffalo",
   "metadata": {},
   "source": [
    "We consider the primary desination (10, 10).\n",
    "\n",
    "And the usual quadratic cost are used with\n",
    "\\begin{equation}\n",
    "L_\\text{q}(x, u) = (x - x_\\text{tgt})^\\top Q (x - x_\\text{tgt}) + u^\\top R u\n",
    "\\end{equation}"
   ]
  },
  {
   "cell_type": "markdown",
   "id": "coordinated-declaration",
   "metadata": {},
   "source": [
    "Now, we are considering the obstacle avoidance constraint. A simple inequality with vertices (4, 4) and (6, 8). The obstacle occupy the following intervals.\n",
    "\\begin{equation}\n",
    "\\begin{aligned}\n",
    "    4 \\leq x \\leq 6 \\\\\n",
    "    4 \\leq y \\leq 8\n",
    "\\end{aligned}\n",
    "\\end{equation}\n",
    "\n",
    "We add the penalty cost to the quadratic cost with the penalty weight $W_\\text{penalty}$ as\n",
    "\\begin{equation}\n",
    "L(x, u) = L_\\text{q}(x, u) + W_\\text{penalty}\\mathbb{1}[x \\in \\text{Obstacle}]\n",
    "\\end{equation}"
   ]
  },
  {
   "cell_type": "code",
   "execution_count": 149,
   "id": "b1346a34-b8f7-4c45-a012-7cfd35eaefb0",
   "metadata": {},
   "outputs": [
    {
     "name": "stdout",
     "output_type": "stream",
     "text": [
      "cost torch.Size([10000])\n"
     ]
    }
   ],
   "source": [
    "class CostCalculator:\n",
    "    def __init__(self, X_goal):\n",
    "        self.X_goal = X_goal\n",
    "        \n",
    "        self.Q_running = torch.FloatTensor([[1, 0, 0, 0],[0, 1, 0, 0],[0, 0, 1, 0],[0, 0, 0, 1]]).to(DEVICE)\n",
    "        self.R_running = torch.FloatTensor([[0, 0],[0, 0]]).to(DEVICE)\n",
    "\n",
    "        self.Q_terminal = torch.FloatTensor([[1, 0, 0, 0],[0, 1, 0, 0],[0, 0, 1, 0],[0, 0, 0, 1]]).to(DEVICE)\n",
    "        self.R_terminal = torch.FloatTensor([[1, 0],[0, 1]]).to(DEVICE)\n",
    "        \n",
    "        self.Box_to_Avoid = {}\n",
    "        self.Box_to_Avoid.update({'LB_X':4})\n",
    "        self.Box_to_Avoid.update({'UB_X':6})\n",
    "        self.Box_to_Avoid.update({'LB_Y':4})\n",
    "        self.Box_to_Avoid.update({'UB_Y':8})\n",
    "        self.GAP = 0.2\n",
    "        self.W_penalty = 10000\n",
    "        \n",
    "    def calcualte(self, XX, UU):\n",
    "        \n",
    "        N_smpl, N_state, N_time = XX.size()\n",
    "        \n",
    "        ### Repeat and reshaping the tensors ###\n",
    "        XX_goal = self.X_goal.unsqueeze(-1)\n",
    "        XX_goal = XX_goal.repeat(N_smpl, 1, N_time)\n",
    "        \n",
    "        ##################################\n",
    "        ### Calculate the running cost ###\n",
    "        ##################################\n",
    "        \n",
    "        ### Error Cost: x_T*Q*x ###\n",
    "        QQ = self.Q_running.unsqueeze(0).unsqueeze(0).repeat(N_smpl, N_time, 1, 1)\n",
    "        EE = (XX - XX_goal).unsqueeze(-1).permute(0,2,1,3)\n",
    "        EE_T = EE.permute(0,1,3,2)\n",
    "        EEQQEE = torch.matmul(EE_T, torch.matmul(QQ, EE))\n",
    "        ### Control Cost: u_T*R*u ###\n",
    "        RR = self.R_running.unsqueeze(0).unsqueeze(0).repeat(N_smpl, N_time, 1, 1)\n",
    "        UU = UU.permute(2, 0, 1).unsqueeze(-1)\n",
    "        UU_T = UU.permute(0,1,3,2)\n",
    "        UURRUU = torch.matmul(UU_T, torch.matmul(RR, UU))\n",
    "        ### Indicator in the obstacle space ###\n",
    "        XX_x = XX[:, 0, :]\n",
    "        XX_y = XX[:, 1, :]\n",
    "        \n",
    "        LB_X = self.Box_to_Avoid['LB_X']\n",
    "        UB_X = self.Box_to_Avoid['UB_X']\n",
    "        LB_Y = self.Box_to_Avoid['LB_Y']\n",
    "        UB_Y = self.Box_to_Avoid['UB_Y']\n",
    "        GAP  = self.GAP\n",
    "        W_penalty = self.W_penalty\n",
    "        \n",
    "        If_Within_Obstacle = (XX_x > LB_X-GAP).type(torch.float)*(XX_x < UB_X+GAP).type(torch.float)*(XX_y > LB_Y-GAP).type(torch.float)*(XX_y < UB_Y+GAP).type(torch.float)\n",
    "        If_Within_Obstacle = If_Within_Obstacle.unsqueeze(-1)\n",
    "        \n",
    "        ### Running cost L tensor ###\n",
    "        #LL = EEQQEE.squeeze() + UURRUU.squeeze() + W_penalty * If_Within_Obstacle.squeeze()\n",
    "        LL = W_penalty * If_Within_Obstacle.squeeze()\n",
    "        \n",
    "        ###################################\n",
    "        ### Calculate the terminal cost ###\n",
    "        ###################################\n",
    "        XX_terminal  = XX[:,:,-1].unsqueeze(-1)\n",
    "        XX_goal = XX_goal[:,:,-1].unsqueeze(-1)\n",
    "        \n",
    "        ### Error Cost: x_T*Q*x ###\n",
    "        QQ = self.Q_terminal.unsqueeze(0).repeat(N_smpl, 1, 1)\n",
    "        EE = (XX_terminal - XX_goal)\n",
    "        EE_T = EE.permute(0,2,1)\n",
    "        EEQQEE = torch.matmul(EE_T, torch.matmul(QQ, EE)).squeeze()\n",
    "        \n",
    "        \n",
    "        UU_terminal = UU[:,-1,:,:].squeeze().unsqueeze(-1)\n",
    "        RR = self.R_terminal.unsqueeze(0).repeat(N_smpl, 1, 1)\n",
    "        UU_terminal_T = UU_terminal.permute(0, 2, 1)\n",
    "        UURRUU = torch.matmul(UU_terminal_T, torch.matmul(RR, UU_terminal)).squeeze()\n",
    "        \n",
    "        FF = EEQQEE.squeeze() + UURRUU.squeeze()\n",
    "        \n",
    "        cost = torch.mean(LL, 1) + FF\n",
    "                \n",
    "        return cost\n",
    "\n",
    "UU = torch.randn(N, N_u, N_smpl).to(DEVICE)\n",
    "\n",
    "### Simulate the random trajctories ###\n",
    "x_0 = torch.zeros(N_x).to(DEVICE)\n",
    "XX = calculate_state_trajectories(A, B, x_0, UU)\n",
    "\n",
    "X_goal = torch.FloatTensor([[10, 10, 0, 0]]).to(DEVICE)     \n",
    "cost_calculator = CostCalculator(X_goal)\n",
    "cost = cost_calculator.calcualte(XX, UU)\n",
    "\n",
    "print('cost', cost.size())\n"
   ]
  },
  {
   "cell_type": "markdown",
   "id": "pacific-suspension",
   "metadata": {},
   "source": [
    "Now, we are runing the simulation."
   ]
  },
  {
   "cell_type": "code",
   "execution_count": 150,
   "id": "third-environment",
   "metadata": {},
   "outputs": [],
   "source": [
    "import tqdm\n",
    "\n",
    "### Simulate the random trajctories ###\n",
    "x_0 = torch.zeros(N_x).to(DEVICE)\n",
    "X_goal = torch.FloatTensor([[8, 8, 0, 0]]).to(DEVICE)     \n",
    "cost_calculator = CostCalculator(X_goal)\n",
    "\n",
    "LAMBDA = 1.0 # MPPI Param\n",
    "\n",
    "def run_sim():\n",
    "    x_t = x_0 # Initizlize the state for SIM\n",
    "    T_sim = 1000\n",
    "\n",
    "    x_sim_result = []\n",
    "    u_sim_result = []\n",
    "\n",
    "    for t in tqdm.tqdm(range(T_sim)):\n",
    "        \n",
    "        ### Sampling and construct the control table ###\n",
    "        UU = torch.randn(N, N_u, N_smpl).to(DEVICE)\n",
    "        \n",
    "        ### Simulate the random trajctories for Optimizaiton (MPPI) ###\n",
    "        XX = calculate_state_trajectories(A, B, x_t, UU)\n",
    "        \n",
    "        ### Calcualte the costs of state trajectories ###\n",
    "        J = cost_calculator.calcualte(XX, UU)\n",
    "        \n",
    "        ### Stochastic optimziaiton (MPPI) ####\n",
    "        # Now get the weight for MPPI \n",
    "        energy = torch.exp(-1/LAMBDA*(J-J.min()))\n",
    "        weight_mppi = energy / torch.sum(energy)\n",
    "        \n",
    "        # Get weighted sum for u_t\n",
    "        U_first_samples = UU[0,:,:].squeeze()\n",
    "        u_t  = torch.sum(U_first_samples*weight_mppi,1)\n",
    "        \n",
    "        #print('u_t', u_t.size())\n",
    "        #print('x_t', x_t.size())\n",
    "        \n",
    "        ### Use it with the system ###\n",
    "        x_t = x_t.unsqueeze(-1)\n",
    "        x_tp1 = torch.matmul(A,x_t) + torch.matmul(B,u_t.unsqueeze(-1))\n",
    "        x_t = x_tp1.squeeze()\n",
    "        \n",
    "        #print('x_tp1', x_tp1.size())\n",
    "\n",
    "        ### Append data for plotting ###\n",
    "        x_sim_result.append(x_t)\n",
    "        u_sim_result.append(u_t)\n",
    "\n",
    "    x_sim_result = torch.stack(x_sim_result)\n",
    "    u_sim_result = torch.stack(u_sim_result)\n",
    "    \n",
    "    return x_sim_result, u_sim_result"
   ]
  },
  {
   "cell_type": "markdown",
   "id": "nonprofit-statistics",
   "metadata": {},
   "source": [
    "Simulate and Plot the results."
   ]
  },
  {
   "cell_type": "code",
   "execution_count": 151,
   "id": "qualified-facing",
   "metadata": {},
   "outputs": [
    {
     "name": "stderr",
     "output_type": "stream",
     "text": [
      "100%|████████████████████████████████████████████████████████████████████████████| 1000/1000 [00:56<00:00, 17.84it/s]\n",
      "No handles with labels found to put in legend.\n",
      "The PostScript backend does not support transparency; partially transparent artists will be rendered opaque.\n",
      "The PostScript backend does not support transparency; partially transparent artists will be rendered opaque.\n"
     ]
    },
    {
     "data": {
      "image/png": "[encoded data removed]",
      "text/plain": [
       "<Figure size 432x288 with 1 Axes>"
      ]
     },
     "metadata": {
      "needs_background": "light"
     },
     "output_type": "display_data"
    }
   ],
   "source": [
    "import matplotlib.pyplot as plt\n",
    "from matplotlib.patches import Rectangle\n",
    "\n",
    "\n",
    "fig, ax = plt.subplots()\n",
    "\n",
    "list_gammas = [0.0, 0.7]\n",
    "\n",
    "    \n",
    "x_sim_result, u_sim_result = run_sim()\n",
    "\n",
    "if DEVICE != \"cpu\":\n",
    "    x = x_sim_result[:,0].cpu().numpy()\n",
    "    y = x_sim_result[:,1].cpu().numpy()\n",
    "else:\n",
    "    x = x_sim_result[:,0].numpy()\n",
    "    y = x_sim_result[:,1].numpy()\n",
    "\n",
    "ax.plot(x, y) \n",
    "    \n",
    "### Add goal positions ###\n",
    "if DEVICE != \"cpu\":\n",
    "    np_X_goal = X_goal.cpu().numpy()\n",
    "else:\n",
    "    np_X_goal = X_goal.numpy()\n",
    "\n",
    "### Add goal positions ###\n",
    "ax.plot(np_X_goal[0,0], np_X_goal[0,1], 'bo')\n",
    "\n",
    "### Add the rect. obs. ###\n",
    "LB_X = cost_calculator.Box_to_Avoid['LB_X']\n",
    "UB_X = cost_calculator.Box_to_Avoid['UB_X']\n",
    "LB_Y = cost_calculator.Box_to_Avoid['LB_Y']\n",
    "UB_Y = cost_calculator.Box_to_Avoid['UB_Y']\n",
    "\n",
    "ax.add_patch(Rectangle((LB_X, LB_Y), UB_X - LB_X, UB_Y - LB_Y))\n",
    "    \n",
    "ax.grid()\n",
    "plt.legend(loc='lower right')\n",
    "fig.savefig('figures/example1.eps', format='eps')\n",
    "fig.savefig('figures/example1.png')\n",
    "plt.show()"
   ]
  },
  {
   "cell_type": "code",
   "execution_count": null,
   "id": "fitting-wright",
   "metadata": {},
   "outputs": [],
   "source": []
  },
  {
   "cell_type": "code",
   "execution_count": null,
   "id": "different-lover",
   "metadata": {},
   "outputs": [],
   "source": []
  },
  {
   "cell_type": "code",
   "execution_count": null,
   "id": "regulated-authentication",
   "metadata": {},
   "outputs": [],
   "source": []
  },
  {
   "cell_type": "code",
   "execution_count": null,
   "id": "1bfc250c-b343-4fce-81aa-79fb6b309310",
   "metadata": {},
   "outputs": [],
   "source": []
  }
 ],
 "metadata": {
  "kernelspec": {
   "display_name": "Python 3 (ipykernel)",
   "language": "python",
   "name": "python3"
  },
  "language_info": {
   "codemirror_mode": {
    "name": "ipython",
    "version": 3
   },
   "file_extension": ".py",
   "mimetype": "text/x-python",
   "name": "python",
   "nbconvert_exporter": "python",
   "pygments_lexer": "ipython3",
   "version": "3.8.10"
  }
 },
 "nbformat": 4,
 "nbformat_minor": 5
}
